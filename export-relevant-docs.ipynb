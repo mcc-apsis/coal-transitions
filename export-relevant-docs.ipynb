{
 "cells": [
  {
   "cell_type": "code",
   "execution_count": 1,
   "metadata": {},
   "outputs": [],
   "source": [
    "import sys, os, django\n",
    "import pandas as pd\n",
    "from django.core.exceptions import MultipleObjectsReturned, ObjectDoesNotExist\n",
    "\n",
    "sys.path.append('/home/galm/software/django/tmv/BasicBrowser/')\n",
    "os.environ.setdefault(\"DJANGO_SETTINGS_MODULE\", \"BasicBrowser.settings\")\n",
    "django.setup()\n",
    "\n",
    "from scoping.models import *\n",
    "from scoping.tasks import *\n",
    "import time"
   ]
  },
  {
   "cell_type": "code",
   "execution_count": 2,
   "metadata": {},
   "outputs": [],
   "source": [
    "import pandas as pd\n",
    "import gspread\n",
    "from oauth2client.service_account import ServiceAccountCredentials\n",
    "scope = ['https://spreadsheets.google.com/feeds']\n",
    "credentials = ServiceAccountCredentials.from_json_keyfile_name('./jupyter-google-e4b72bf44320.json', scope)\n",
    "gc = gspread.authorize(credentials)\n",
    "spreadsheet_key = '1Z_BRPPW0s6i9JxFG-v5dRjHCXTDVHY2Qbgz4qMLGQ8c'\n",
    "wb = gc.open_by_key(spreadsheet_key)\n",
    "ws = wb.worksheet(\"Documents\")"
   ]
  },
  {
   "cell_type": "code",
   "execution_count": 3,
   "metadata": {},
   "outputs": [
    {
     "name": "stdout",
     "output_type": "stream",
     "text": [
      "(816, 6)\n"
     ]
    },
    {
     "data": {
      "text/html": [
       "<div>\n",
       "<style scoped>\n",
       "    .dataframe tbody tr th:only-of-type {\n",
       "        vertical-align: middle;\n",
       "    }\n",
       "\n",
       "    .dataframe tbody tr th {\n",
       "        vertical-align: top;\n",
       "    }\n",
       "\n",
       "    .dataframe thead th {\n",
       "        text-align: right;\n",
       "    }\n",
       "</style>\n",
       "<table border=\"1\" class=\"dataframe\">\n",
       "  <thead>\n",
       "    <tr style=\"text-align: right;\">\n",
       "      <th></th>\n",
       "      <th>ID</th>\n",
       "      <th>Year</th>\n",
       "      <th>Authors</th>\n",
       "      <th>Title</th>\n",
       "      <th>DOI</th>\n",
       "      <th>manaully_added</th>\n",
       "    </tr>\n",
       "  </thead>\n",
       "  <tbody>\n",
       "    <tr>\n",
       "      <th>0</th>\n",
       "      <td>10579</td>\n",
       "      <td>2016</td>\n",
       "      <td>Betsill, M, Stevis, D</td>\n",
       "      <td>The politics and dynamics of energy transition...</td>\n",
       "      <td>10.1177/0263774X15614668</td>\n",
       "      <td>False</td>\n",
       "    </tr>\n",
       "    <tr>\n",
       "      <th>1</th>\n",
       "      <td>34283</td>\n",
       "      <td>2008</td>\n",
       "      <td>Sheehan, P, Sheehan, P</td>\n",
       "      <td>The new global growth path: implications for c...</td>\n",
       "      <td>10.1007/s10584-008-9415-z</td>\n",
       "      <td>False</td>\n",
       "    </tr>\n",
       "    <tr>\n",
       "      <th>2</th>\n",
       "      <td>60066</td>\n",
       "      <td>2001</td>\n",
       "      <td>Pierret, C.</td>\n",
       "      <td>For a restrained or controlled development of ...</td>\n",
       "      <td>None</td>\n",
       "      <td>False</td>\n",
       "    </tr>\n",
       "    <tr>\n",
       "      <th>3</th>\n",
       "      <td>69411</td>\n",
       "      <td>2016</td>\n",
       "      <td>Wrona, P, Rozanski, Z, Pach, G, Suponik, T, Po...</td>\n",
       "      <td>Closed coal mine shaft as a source of carbon d...</td>\n",
       "      <td>10.1007/s12665-016-5977-7</td>\n",
       "      <td>False</td>\n",
       "    </tr>\n",
       "    <tr>\n",
       "      <th>4</th>\n",
       "      <td>78334</td>\n",
       "      <td>2015</td>\n",
       "      <td>Lyzwa, W., Wierzbowski, M., Olek, B., Stuchala...</td>\n",
       "      <td>The impact of energy policy 2030 on the edge c...</td>\n",
       "      <td>10.1109/EEM.2015.7216619</td>\n",
       "      <td>False</td>\n",
       "    </tr>\n",
       "  </tbody>\n",
       "</table>\n",
       "</div>"
      ],
      "text/plain": [
       "      ID  Year                                            Authors  \\\n",
       "0  10579  2016                              Betsill, M, Stevis, D   \n",
       "1  34283  2008                             Sheehan, P, Sheehan, P   \n",
       "2  60066  2001                                        Pierret, C.   \n",
       "3  69411  2016  Wrona, P, Rozanski, Z, Pach, G, Suponik, T, Po...   \n",
       "4  78334  2015  Lyzwa, W., Wierzbowski, M., Olek, B., Stuchala...   \n",
       "\n",
       "                                               Title  \\\n",
       "0  The politics and dynamics of energy transition...   \n",
       "1  The new global growth path: implications for c...   \n",
       "2  For a restrained or controlled development of ...   \n",
       "3  Closed coal mine shaft as a source of carbon d...   \n",
       "4  The impact of energy policy 2030 on the edge c...   \n",
       "\n",
       "                         DOI  manaully_added  \n",
       "0   10.1177/0263774X15614668           False  \n",
       "1  10.1007/s10584-008-9415-z           False  \n",
       "2                       None           False  \n",
       "3  10.1007/s12665-016-5977-7           False  \n",
       "4   10.1109/EEM.2015.7216619           False  "
      ]
     },
     "execution_count": 3,
     "metadata": {},
     "output_type": "execute_result"
    }
   ],
   "source": [
    "pid = 127\n",
    "\n",
    "columns = {\n",
    "    'id':'ID',\n",
    "    'PY': 'Year',\n",
    "    'authors':'Authors',\n",
    "    'title':'Title',\n",
    "    'wosarticle__di':'DOI'\n",
    "}\n",
    "\n",
    "reldocs = Doc.objects.filter(\n",
    "    docproject__project_id=pid, docproject__relevant=1\n",
    ").values_list('pk',flat=True)\n",
    "\n",
    "added_docs = Doc.objects.filter(\n",
    "    query__id__in=[7135,7242]\n",
    ").values_list('pk',flat=True)\n",
    "\n",
    "all_ids = set(reldocs) | set(added_docs)\n",
    "\n",
    "\n",
    "docs = Doc.objects.filter(pk__in=all_ids)\n",
    "\n",
    "df = pd.DataFrame.from_dict(list(docs.values(*columns.keys())))\n",
    "df = df[columns.keys()]\n",
    "\n",
    "df = df.rename(columns=columns)\n",
    "\n",
    "def is_manually_added(row):\n",
    "    d = Doc.objects.get(pk=row['ID'])\n",
    "    qs = d.query.filter(project_id=pid, qtype=\"MN\")\n",
    "    return qs.exists()\n",
    "\n",
    "df['manaully_added'] = df.apply(is_manually_added, axis=1)\n",
    "\n",
    "print(df.shape)\n",
    "df.head()"
   ]
  },
  {
   "cell_type": "code",
   "execution_count": null,
   "metadata": {},
   "outputs": [],
   "source": []
  },
  {
   "cell_type": "code",
   "execution_count": 5,
   "metadata": {},
   "outputs": [],
   "source": [
    "table = ws.get_all_values()\n",
    "gdf = pd.DataFrame(table[1:], columns=table[0])\n",
    "now = timezone.now().strftime(\"%Y-%m-%d %H:%M:%S\")\n",
    "for i, row in df.iterrows():\n",
    "    if str(row['ID']) not in list(gdf['ID']):\n",
    "        try:\n",
    "            ws.append_row(list(row.values) + [\"\",now])\n",
    "        except:\n",
    "            print(\"Waiting...\")\n",
    "            time.sleep(100)\n",
    "            ws.append_row(list(row.values) + [\"\",now])\n",
    "    "
   ]
  },
  {
   "cell_type": "code",
   "execution_count": null,
   "metadata": {},
   "outputs": [],
   "source": []
  },
  {
   "cell_type": "code",
   "execution_count": null,
   "metadata": {},
   "outputs": [],
   "source": []
  }
 ],
 "metadata": {
  "kernelspec": {
   "display_name": "tmv",
   "language": "python",
   "name": "tmv"
  },
  "language_info": {
   "codemirror_mode": {
    "name": "ipython",
    "version": 3
   },
   "file_extension": ".py",
   "mimetype": "text/x-python",
   "name": "python",
   "nbconvert_exporter": "python",
   "pygments_lexer": "ipython3",
   "version": "3.6.7"
  },
  "varInspector": {
   "cols": {
    "lenName": 16,
    "lenType": 16,
    "lenVar": 40
   },
   "kernels_config": {
    "python": {
     "delete_cmd_postfix": "",
     "delete_cmd_prefix": "del ",
     "library": "var_list.py",
     "varRefreshCmd": "print(var_dic_list())"
    },
    "r": {
     "delete_cmd_postfix": ") ",
     "delete_cmd_prefix": "rm(",
     "library": "var_list.r",
     "varRefreshCmd": "cat(var_dic_list()) "
    }
   },
   "types_to_exclude": [
    "module",
    "function",
    "builtin_function_or_method",
    "instance",
    "_Feature"
   ],
   "window_display": false
  }
 },
 "nbformat": 4,
 "nbformat_minor": 2
}
